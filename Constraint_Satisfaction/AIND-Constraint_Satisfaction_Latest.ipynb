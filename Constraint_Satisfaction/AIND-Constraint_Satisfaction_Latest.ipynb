{
 "cells": [
  {
   "cell_type": "markdown",
   "metadata": {
    "deletable": true,
    "editable": true
   },
   "source": [
    "# Constraint Satisfaction Problems Lab\n",
    "\n",
    "## Introduction\n",
    "Constraint Satisfaction is a technique for solving problems by expressing limits on the values of each variable in the solution with mathematical constraints.  We've used constraints before -- constraints in the Sudoku project are enforced implicitly by filtering the legal values for each box, and the planning project represents constraints as arcs connecting nodes in the planning graph -- but in this lab exercise we will use a symbolic math library to explicitly construct binary constraints and then use Backtracking to solve the N-queens problem (which is a generalization [8-queens problem](https://en.wikipedia.org/wiki/Eight_queens_puzzle)).  Using symbolic constraints should make it easier to visualize and reason about the constraints (especially for debugging), but comes with a performance penalty.\n",
    "\n",
    "![8-queens puzzle solution](EightQueens.gif)\n",
    "\n",
    "Briefly, the 8-queens problem asks you to place 8 queens on a standard 8x8 chessboard such that none of the queens are in \"check\" (i.e., no two queens occupy the same row, column, or diagonal). The N-queens problem generalizes the puzzle to to any size square board.\n",
    "\n",
    "## I. Lab Overview\n",
    "Students should read through the code and the wikipedia page (or other resources) to understand the N-queens problem, then:\n",
    "\n",
    "0. Complete the warmup exercises in the [Sympy_Intro notebook](Sympy_Intro.ipynb) to become familiar with they sympy library and symbolic representation for constraints\n",
    "0. Implement the [NQueensCSP class](#II.-Representing-the-N-Queens-Problem) to develop an efficient encoding of the N-queens problem and explicitly generate the constraints bounding the solution\n",
    "0. Write the [search functions](#III.-Backtracking-Search) for recursive backtracking, and use them to solve the N-queens problem\n",
    "0. (Optional) Conduct [additional experiments](#IV.-Experiments-%28Optional%29) with CSPs and various modifications to the search order (minimum remaining values, least constraining value, etc.)"
   ]
  },
  {
   "cell_type": "code",
   "execution_count": 186,
   "metadata": {
    "collapsed": false,
    "deletable": true,
    "editable": true
   },
   "outputs": [],
   "source": [
    "import matplotlib as mpl\n",
    "import matplotlib.pyplot as plt\n",
    "\n",
    "from util import constraint, displayBoard\n",
    "from sympy import *\n",
    "from IPython.display import display\n",
    "init_printing()\n",
    "%matplotlib inline"
   ]
  },
  {
   "cell_type": "markdown",
   "metadata": {
    "deletable": true,
    "editable": true
   },
   "source": [
    "## II. Representing the N-Queens Problem\n",
    "There are many acceptable ways to represent the N-queens problem, but one convenient way is to recognize that one of the constraints (either the row or column constraint) can be enforced implicitly by the encoding.  If we represent a solution as an array with N elements, then each position in the array can represent a column of the board, and the value at each position can represent which row the queen is placed on.\n",
    "\n",
    "In this encoding, we only need a constraint to make sure that no two queens occupy the same row, and one to make sure that no two queens occupy the same diagonal.\n",
    "\n",
    "### Define Symbolic Expressions for the Problem Constraints\n",
    "Before implementing the board class, we need to construct the symbolic constraints that will be used in the CSP.  Declare any symbolic terms required, and then declare two generic constraint generators:\n",
    "- `diffRow` - generate constraints that return True if the two arguments do not match\n",
    "- `diffDiag` - generate constraints that return True if two arguments are not on the same diagonal (Hint: you can easily test whether queens in two columns are on the same diagonal by testing if the difference in the number of rows and the number of columns match)\n",
    "\n",
    "Both generators should produce binary constraints (i.e., each should have two free symbols) once they're bound to specific variables in the CSP.  For example, Eq((a + b), (b + c)) is not a binary constraint, but Eq((a + b), (b + c)).subs(b, 1) _is_ a binary constraint because one of the terms has been bound to a constant, so there are only two free variables remaining. "
   ]
  },
  {
   "cell_type": "code",
   "execution_count": 187,
   "metadata": {
    "collapsed": false,
    "deletable": true,
    "editable": true
   },
   "outputs": [
    {
     "data": {
      "text/plain": [
       "'Row 1:-Y0 Row 2:-Y1'"
      ]
     },
     "metadata": {},
     "output_type": "display_data"
    },
    {
     "data": {
      "text/plain": [
       "'Column 1:-X0  Column 2:-X1'"
      ]
     },
     "metadata": {},
     "output_type": "display_data"
    },
    {
     "name": "stdout",
     "output_type": "stream",
     "text": [
      "DiffRow(Y1, Y0) DiffDiag(Y1, Y0, X0, X1)\n"
     ]
    }
   ],
   "source": [
    "# Declare any required symbolic variables\n",
    "#raise NotImplementedError(\"TODO: declare symbolic variables for the constraint generators\")\n",
    "C = symbols('X:2') # getting 2 columns\n",
    "R = symbols('Y:2') # getting 2 rows \n",
    "display('Row 1:-'+ str(R[0]) +\" Row 2:-\"+ str(R[1]),\"Column 1:-\"+ str(C[0]) + \"  Column 2:-\"+ str(C[1])) \n",
    "# Define diffRow and diffDiag constraints\n",
    "#raise NotImplementedError(\"TODO: create the diffRow and diffDiag constraint generators\")\n",
    "diffRow = constraint(\"DiffRow\",Ne(R[0],R[1]))\n",
    "diffDiag = constraint(\"DiffDiag\",Ne(abs(R[0] - R[1]),(abs(C[0]-C[1]))) )\n",
    "\n",
    "print(diffRow, diffDiag)"
   ]
  },
  {
   "cell_type": "code",
   "execution_count": 188,
   "metadata": {
    "collapsed": false,
    "deletable": true,
    "editable": true
   },
   "outputs": [
    {
     "name": "stdout",
     "output_type": "stream",
     "text": [
      "Passed all diffRow tests.\n",
      "Passed all diffDiag tests.\n"
     ]
    }
   ],
   "source": [
    "# Test diffRow and diffDiag\n",
    "_x = symbols(\"x:3\")\n",
    "\n",
    "# generate a diffRow instance for testing\n",
    "#raise NotImplementedError(\"TODO: use your diffRow constraint to generate a diffRow constraint for _x[0] and _x[1]\")\n",
    "diffRow_test = diffRow.subs({R[0]:_x[0],R[1]:_x[1]})\n",
    "\n",
    "assert(len(diffRow_test.free_symbols) == 2)\n",
    "assert(diffRow_test.subs({_x[0]: 0, _x[1]: 1}) == True)\n",
    "assert(diffRow_test.subs({_x[0]: 0, _x[1]: 0}) == False)\n",
    "assert(diffRow_test.subs({_x[0]: 0}) != False)  # partial assignment is not false\n",
    "print(\"Passed all diffRow tests.\")\n",
    "\n",
    "# generate a diffDiag instance for testing\n",
    "#raise NotImplementedError(\"TODO: use your diffDiag constraint to generate a diffDiag constraint for _x[0] and _x[2]\")\n",
    "diffDiag_test = diffDiag.subs({R[0]:_x[0],R[1]:_x[2], C[0]:0,C[1]:2})\n",
    "#diffDiag_test = diffDiag.subs({R[0]:_x[0],R[1]:2, C[0]:0,C[1]:_x[2]})\n",
    "#Ne(abs(R[0] - R[1]),(abs(C[0]-C[1])))\n",
    "\n",
    "assert(len(diffDiag_test.free_symbols) == 2)\n",
    "assert(diffDiag_test.subs({_x[0]: 0, _x[2]: 2}) == False)\n",
    "assert(diffDiag_test.subs({_x[0]: 0, _x[2]: 0}) == True)\n",
    "assert(diffDiag_test.subs({_x[0]: 0}) != False)  # partial assignment is not false\n",
    "print(\"Passed all diffDiag tests.\")"
   ]
  },
  {
   "cell_type": "markdown",
   "metadata": {
    "deletable": true,
    "editable": true
   },
   "source": [
    "### The N-Queens CSP Class\n",
    "Implement the CSP class as described above, with constraints to make sure each queen is on a different row and different diagonal than every other queen, and a variable for each column defining the row that containing a queen in that column."
   ]
  },
  {
   "cell_type": "code",
   "execution_count": 189,
   "metadata": {
    "collapsed": false,
    "deletable": true,
    "editable": true
   },
   "outputs": [
    {
     "name": "stdout",
     "output_type": "stream",
     "text": [
      "In Class NQueensCSP\n"
     ]
    }
   ],
   "source": [
    "class NQueensCSP:\n",
    "    print(\"In Class NQueensCSP\")\n",
    "    \"\"\"CSP representation of the N-queens problem\n",
    "    \n",
    "    Parameters\n",
    "    ----------\n",
    "    N : Integer\n",
    "        The side length of a square chess board to use for the problem, and\n",
    "        the number of queens that must be placed on the board\n",
    "    \"\"\"\n",
    "    def __init__(self, N):\n",
    "#        print(\"In Init of  Class NQueensCSP\")\n",
    "        \"\"\"\n",
    "        ######BASED ON THE NUMBER OF QUEENS YOUR COLUMN NAME WILL BE APPENDED BY THE SEQUENCE NUMBER.##############\n",
    "        print(\"Number of Column Stored in  _vars = symbols('Queen_in_column_:%s'%(N)) are \\n\",_vars)\n",
    "        \n",
    "         Number of Column Stored in  _vars = symbols('Queen_in_column_:%s'%(N)) are \n",
    "         (Queen_in_column_0, Queen_in_column_1, Queen_in_column_2, Queen_in_column_3, \n",
    "         Queen_in_column_4, Queen_in_column_5, Queen_in_column_6, Queen_in_column_7)\n",
    "         \n",
    "         ########GET THE NUMBER OF QUEENS YOU ARE PLAYING FOR #########\n",
    "         print(\" \\n Value in _domain = set(range(N)) \\n\",_domain)\n",
    "         Value in _domain = set(range(N))   {0, 1, 2, 3, 4, 5, 6, 7}\n",
    "         \n",
    "         ########ASSIGN COLUMN NAMES TO \"variables\" #########\n",
    "         print(\" \\n self.variables = _vars \\n\",self.variables)\n",
    "         (Queen_in_column_0, Queen_in_column_1, Queen_in_column_2, Queen_in_column_3, Queen_in_column_4,\n",
    "         Queen_in_column_5, Queen_in_column_6, Queen_in_column_7)\n",
    "         \n",
    "         #### ASSIGN THE QUEENS TO EACH COLUMN AS AT THIS POINT YOU DONT KNOW WHICH QUEEN WILL FIT IN WHICH CLMN###\n",
    "         print(\" \\n self.domains = {v: _domain for v in _vars} \\n\",self.domains)\n",
    "         self.domains = {v: _domain for v in _vars} \n",
    "         {Queen_in_column_0: {0, 1, 2, 3, 4, 5, 6, 7}, Queen_in_column_1: {0, 1, 2, 3, 4, 5, 6, 7},\n",
    "         Queen_in_column_2: {0, 1, 2, 3, 4, 5, 6, 7}, Queen_in_column_3: {0, 1, 2, 3, 4, 5, 6, 7}, \n",
    "         Queen_in_column_4: {0, 1, 2, 3, 4, 5, 6, 7}, Queen_in_column_5: {0, 1, 2, 3, 4, 5, 6, 7},\n",
    "         Queen_in_column_6: {0, 1, 2, 3, 4, 5, 6, 7}, Queen_in_column_7: {0, 1, 2, 3, 4, 5, 6, 7}}\n",
    "         \n",
    "        ######## AT THIS POINT YOU DONT HAVE CONSTRAINT (ROW OR DIAGONAL) SO ASSIGN EMPTY CONSTRAINT #####\n",
    "        print(\" \\n self._constraints = {x: set() for x in _vars} \\n\",self._constraints)\n",
    "        \n",
    "        self._constraints = {x: set() for x in _vars} \n",
    "         {Queen_in_column_0: set(), Queen_in_column_1: set(), Queen_in_column_2: set(), \n",
    "         Queen_in_column_3: set(), Queen_in_column_4: set(), Queen_in_column_5: set(), \n",
    "         Queen_in_column_6: set(), Queen_in_column_7: set()}\n",
    "\n",
    "        ##### FINALLY ADD THE DIAGONAL AND ROW CONSTRAINT FOR EACH ABOVE NAMED COLUMN\n",
    "        for i, j in enumerate(_vars):\n",
    "            self._constraints[j].add(diffDiag)\n",
    "            self._constraints[j].add(diffRow)\n",
    "            print(\" \\n i = \",i, \" j =\",j ,self._constraints.values(),self._constraints[j].add(diffDiag),\n",
    "            self._constraints[j].add(diffRow))\n",
    "        ITS PICKING EACH COLUMN AND THEN ADDING CONSTRAINT    \n",
    "        i =  0  j = Queen_in_column_0 dict_values([{DiffDiag(Y1, Y0, X0, X1), DiffRow(Y1, Y0)}, set(), set(),\n",
    "        set(), set(), set(), set(), set()]) None None\n",
    "        \n",
    "        i =  1  j = Queen_in_column_1 dict_values([{DiffDiag(Y1, Y0, X0, X1), DiffRow(Y1, Y0)}, \n",
    "        {DiffDiag(Y1, Y0, X0, X1), DiffRow(Y1, Y0)}, set(), set(), set(), set(), set(), set()]) None None\n",
    "        \n",
    "        i =  2  j = Queen_in_column_2 dict_values([{DiffDiag(Y1, Y0, X0, X1), DiffRow(Y1, Y0)},\n",
    "        {DiffDiag(Y1, Y0, X0, X1), DiffRow(Y1, Y0)}, {DiffDiag(Y1, Y0, X0, X1), DiffRow(Y1, Y0)},\n",
    "        set(), set(), set(), set(), set()]) None None\n",
    "        \n",
    "        i =  3  j = Queen_in_column_3 dict_values([{DiffDiag(Y1, Y0, X0, X1), DiffRow(Y1, Y0)},\n",
    "        {DiffDiag(Y1, Y0, X0, X1), DiffRow(Y1, Y0)}, {DiffDiag(Y1, Y0, X0, X1), DiffRow(Y1, Y0)}, \n",
    "        {DiffDiag(Y1, Y0, X0, X1), DiffRow(Y1, Y0)}, set(), set(), set(), set()]) None None\n",
    "        \n",
    "        i =  4  j = Queen_in_column_4 dict_values([{DiffDiag(Y1, Y0, X0, X1), DiffRow(Y1, Y0)}, \n",
    "        {DiffDiag(Y1, Y0, X0, X1), DiffRow(Y1, Y0)}, {DiffDiag(Y1, Y0, X0, X1), DiffRow(Y1, Y0)},\n",
    "        {DiffDiag(Y1, Y0, X0, X1), DiffRow(Y1, Y0)}, {DiffDiag(Y1, Y0, X0, X1), DiffRow(Y1, Y0)},\n",
    "        set(), set(), set()]) None None\n",
    "        \n",
    "        i =  5  j = Queen_in_column_5 dict_values([{DiffDiag(Y1, Y0, X0, X1), DiffRow(Y1, Y0)},\n",
    "        {DiffDiag(Y1, Y0, X0, X1), DiffRow(Y1, Y0)}, {DiffDiag(Y1, Y0, X0, X1), DiffRow(Y1, Y0)},\n",
    "        {DiffDiag(Y1, Y0, X0, X1), DiffRow(Y1, Y0)}, {DiffDiag(Y1, Y0, X0, X1), DiffRow(Y1, Y0)}, \n",
    "        {DiffDiag(Y1, Y0, X0, X1), DiffRow(Y1, Y0)}, set(), set()]) None None\n",
    "        \n",
    "        i =  6  j = Queen_in_column_6 dict_values([{DiffDiag(Y1, Y0, X0, X1), DiffRow(Y1, Y0)},\n",
    "        {DiffDiag(Y1, Y0, X0, X1), DiffRow(Y1, Y0)}, {DiffDiag(Y1, Y0, X0, X1), DiffRow(Y1, Y0)},\n",
    "        {DiffDiag(Y1, Y0, X0, X1), DiffRow(Y1, Y0)}, {DiffDiag(Y1, Y0, X0, X1), DiffRow(Y1, Y0)},\n",
    "        {DiffDiag(Y1, Y0, X0, X1), DiffRow(Y1, Y0)}, {DiffDiag(Y1, Y0, X0, X1), DiffRow(Y1, Y0)}, set()]) None None\n",
    "        \n",
    "        i =  7  j = Queen_in_column_7 dict_values([{DiffDiag(Y1, Y0, X0, X1), DiffRow(Y1, Y0)},\n",
    "        {DiffDiag(Y1, Y0, X0, X1), DiffRow(Y1, Y0)}, {DiffDiag(Y1, Y0, X0, X1), DiffRow(Y1, Y0)}, \n",
    "        {DiffDiag(Y1, Y0, X0, X1), DiffRow(Y1, Y0)}, {DiffDiag(Y1, Y0, X0, X1), DiffRow(Y1, Y0)}, \n",
    "        {DiffDiag(Y1, Y0, X0, X1), DiffRow(Y1, Y0)}, {DiffDiag(Y1, Y0, X0, X1), DiffRow(Y1, Y0)}, \n",
    "        {DiffDiag(Y1, Y0, X0, X1), DiffRow(Y1, Y0)}]) None None\n",
    "\n",
    "        \n",
    "        \n",
    "        \"\"\"\n",
    "       # raise NotImplementedError(\"TODO: declare symbolic variables in self._vars in the CSP constructor\")\n",
    "        _vars = symbols('Queen_in_column_:%s'%(N)) # same as \"x:{0}\".format(N)\n",
    "#        _vars = symbols(\"Queen_in_column_:{0}\".format(N))\n",
    "        _domain = set(range(N))\n",
    "        self.size = N\n",
    "        self.variables = _vars\n",
    "        self.domains = {v: _domain for v in _vars}\n",
    "        self._constraints = {x: set() for x in _vars}\n",
    "        \n",
    "\n",
    "        # add constraints - for each pair of variables xi and xj, create\n",
    "        # a diffRow(xi, xj) and a diffDiag(xi, xj) instance, and add them\n",
    "        # to the self._constraints dictionary keyed to both xi and xj;\n",
    "        # (i.e., add them to both self._constraints[xi] and self._constraints[xj])\n",
    "        #raise NotImplementedError(\"TODO: add constraints in self._constraints in the CSP constructor\")\n",
    "        for i, j in enumerate(_vars):\n",
    "#            print(\" \\n i = \",i, \" j =\",j)\n",
    "            self._constraints[j].add(diffDiag)\n",
    "            self._constraints[j].add(diffRow)\n",
    "\n",
    "#        print(\" \\n SELF CONSTRAINT =\",self._constraints.values())\n",
    "    \n",
    "    \"\"\"\n",
    "    @property is to get, set , delete and doc something\n",
    "    https://www.programiz.com/python-programming/property\n",
    "    property(fget=None, fset=None, fdel=None, doc=None)\n",
    "    \n",
    "    \"\"\"\n",
    "    \n",
    "    @property\n",
    "    def constraints(self): # THIS METHOD IS NOT USED OR CALLED IN THIS PROGRAM \n",
    "        print (\" In method constraints\")\n",
    "        \"\"\"Read-only list of constraints -- cannot be used for evaluation \"\"\"\n",
    "        constraints = set()\n",
    "        for _cons in self._constraints.values():\n",
    "            print (\"  \\n constraints \",constraints , \"_cons\",_cons)\n",
    "            constraints |= _cons\n",
    "        return list(constraints)\n",
    "    \n",
    "    def is_complete(self, assignment):\n",
    "#        print(\" iN method is_complete\")\n",
    "        \"\"\"An assignment is complete if it is consistent, and all constraints\n",
    "        are satisfied.\n",
    "        \n",
    "        Hint: Backtracking search checks consistency of each assignment, so checking\n",
    "        for completeness can be done very efficiently\n",
    "        \n",
    "        Parameters\n",
    "        ----------\n",
    "        assignment : dict(sympy.Symbol: Integer)\n",
    "            An assignment of values to variables that have previously been checked\n",
    "            for consistency with the CSP constraints\n",
    "        \"\"\"\n",
    "        #raise NotImplementedError(\"TODO: implement the is_complete() method of the CSP\")\n",
    "        \"\"\"\n",
    "        assignment.items()  is a Dictionary of column name (last digit of which is x coordinate) and y coordinate\n",
    "        combination\n",
    "        \n",
    "        dict_items([(Queen_in_column_0, 0), (Queen_in_column_4, 7), (Queen_in_column_1, 6), \n",
    "        (Queen_in_column_2, 3), (Queen_in_column_3, 5), (Queen_in_column_5, 1), (Queen_in_column_6, 4), \n",
    "        (Queen_in_column_7, 2)])\n",
    "        \n",
    "        assignment.keys()  is the dictionary of keys which is just the column names\n",
    "        \n",
    "        dict_keys([Queen_in_column_0, Queen_in_column_4, Queen_in_column_1, Queen_in_column_2,\n",
    "        Queen_in_column_3, Queen_in_column_5, Queen_in_column_6, Queen_in_column_7])\n",
    "\n",
    "        There are total 8 keys 0 thru 7\n",
    "        \n",
    "        print(\"assignment.items() \",assignment.items())\n",
    "        print(\"assignment.keys() \",assignment.keys())\n",
    "        \n",
    "    \n",
    "        \n",
    "        If length of assignment key = the number of nQuens then the assignment is complete and i will return true\n",
    "        \n",
    "        \n",
    "        print(\" assignment =\",assignment)\n",
    "        \n",
    "        Example of Assignment\n",
    "        \n",
    "        assignment = {}\n",
    "        assignment = {Queen_in_column_0: 0}\n",
    "        assignment = {Queen_in_column_0: 0, Queen_in_column_1: 2}\n",
    "        assignment = {Queen_in_column_0: 0, Queen_in_column_1: 2, Queen_in_column_2: 4}\n",
    "        assignment = {Queen_in_column_0: 0, Queen_in_column_1: 2, Queen_in_column_2: 4, Queen_in_column_3: 1}\n",
    "        assignment = {Queen_in_column_0: 0, Queen_in_column_1: 2, Queen_in_column_2: 4, Queen_in_column_3: 1, Queen_in_column_4: 3}\n",
    "        assignment = {Queen_in_column_0: 0, Queen_in_column_1: 2, Queen_in_column_2: 4, Queen_in_column_3: 1, Queen_in_column_4: 7}\n",
    "        \"\"\"\n",
    "        if len(assignment.keys())== self.size:\n",
    "            complete = True\n",
    "            for i_1, j_1 in assignment.items():\n",
    "#                print(\" X cord = \",i_1, \" Column Name =\",j_1,\" assignment =\",assignment)\n",
    "                complete = self.is_consistent( i_1, j_1, assignment)\n",
    "#                print(\"COMPLETE \",complete)\n",
    "                if not complete:\n",
    "                    return False\n",
    "            return complete\n",
    "        else :\n",
    "            return False\n",
    "        \n",
    "                \n",
    "    \n",
    "    def is_consistent(self, var, value, assignment):\n",
    "#        print(\" In method is_consistent \")\n",
    "        \"\"\"Check consistency of a proposed variable assignment\n",
    "                \n",
    "        self._constraints[x] returns a set of constraints that involve variable `x`.\n",
    "        An assignment is consistent unless the assignment it causes a constraint to\n",
    "        return False (partial assignments are always consistent).\n",
    "        \n",
    "        Parameters\n",
    "        ----------\n",
    "        var : sympy.Symbol\n",
    "            One of the symbolic variables in the CSP\n",
    "            \n",
    "        value : Numeric\n",
    "            A valid value (i.e., in the domain of) the variable `var` for assignment\n",
    "\n",
    "        assignment : dict(sympy.Symbol: Integer)\n",
    "            A dictionary mapping CSP variables to row assignment of each queen\n",
    "            \n",
    "        \"\"\"\n",
    "        #raise NotImplementedError(\"TODO: implement the is_consistent() method of the CSP\")\n",
    "        \"\"\"\n",
    "       [print(\"assignment.get(j) \",assignment.get(j),\" j= \",j,\" i =\",i,\" var \",var) for i, j in enumerate(self.variables)]\n",
    "\n",
    "        for i, j in enumerate(self.variables)  this step taken from show() method\n",
    "        x-coordinate = i \n",
    "        y-coordinate = assignment[j]\n",
    "        Column Name = j\n",
    "        \n",
    "        \n",
    "        print(\"var =\",var)\n",
    "        \n",
    "        var = Queen_in_column_0\n",
    "        var = Queen_in_column_1\n",
    "        var = Queen_in_column_1\n",
    "        var = Queen_in_column_1\n",
    "\n",
    "        \n",
    "        print(\"locations \",locations)\n",
    "        \n",
    "        locations  [(0, Queen_in_column_0, 0), (1, Queen_in_column_1, 2)]\n",
    "        x_coordinate,Column_Name,y_coordinate\n",
    "        \n",
    "        print(\"Value \",value)\n",
    "        \n",
    "        Value  0 , Value  1 ,Value  2, Value  3, Value  4,Value  5,Value  6,Value  7\n",
    "\n",
    "        print(\"locations =\",locations,\"x_1 \",x_1,\"s_row \",s_row ,\"diag \",diag)\n",
    "        locations = [(0, Queen_in_column_0, 0), (1, Queen_in_column_1, 2)] x_1  2 s_row  DiffDiag(Y1, Y0, X0, X1) \n",
    "                    diag  DiffRow(Y1, Y0)\n",
    "        locations = [(0, Queen_in_column_0, 0), (1, Queen_in_column_1, 2), (2, Queen_in_column_2, 4)] x_1  3 \n",
    "                s_row  DiffDiag(Y1, Y0, X0, X1) diag  DiffRow(Y1, Y0)\n",
    "        \n",
    "        diag  DiffRow(Y1, Y0) --> Will be used by const_1 to check if the Queen is in same row different rows \n",
    "        \n",
    "        s_row  DiffDiag(Y1, Y0, X0, X1) --> Will be used by const_2 to check if the Queen is in same diagonal\n",
    "\n",
    "        print(\"R[0] =\",R[0],\" value= \",value,\" C[0]= \", C[0],\" x_1= \",x_1,\" R[1]=\", R[1],\"Y= \",y\n",
    "        _coordinate,\" C[1] =\",  C[1],\" X= \",x_coordinate )\n",
    "        \n",
    "        R[0] = Y0  value=  1  C[0]=  X0  x_1=  2  R[1]= Y1 Y=  2  C[1] = X1  X=  1\n",
    "        replace (X0,Y0) with (2,1) and (X1,Y1) with (1,2)\n",
    "        R[0] = Y0  value=  2  C[0]=  X0  x_1=  2  R[1]= Y1 Y=  0  C[1] = X1  X=  0\n",
    "        replace (X0,Y0) with (2,2) and (X1,Y1) with (0,0)\n",
    "        R[0] = Y0  value=  3  C[0]=  X0  x_1=  2  R[1]= Y1 Y=  0  C[1] = X1  X=  0\n",
    "        replace (X0,Y0) with (2,3) and (X1,Y1) with (0,0)...iT continues till all queens are assigned correctly\n",
    "        R[0] = Y0  value=  2  C[0]=  X0  x_1=  7  R[1]= Y1 Y=  4  C[1] = X1  X=  6\n",
    "        replace (X0,Y0) with (7,2) and (X1,Y1) with (6,4)...last matching\n",
    "        \n",
    "        CHECK IF THE 2 COORDINATES ARE IN SAME ROW IF YES THEN RETURN FALSE\n",
    "        const_1 = diag.subs({R[0]:value, C[0]:x_1, R[1]:y_coordinate,  C[1]:x_coordinate })\n",
    "        print(diag.subs({R[0]:value, C[0]:x_1, R[1]:y_coordinate,  C[1]:x_coordinate }),\"R[0] =\",R[0],\n",
    "        \" value= \",value,\" C[0]= \", C[0],\" x_1= \",x_1,\" R[1]=\", R[1],\"Y= \",y_coordinate,\" C[1] =\",  C[1],\n",
    "        \" X= \",x_coordinate )\n",
    "        \n",
    "        False means Both are in same row means Y0 = Y1\n",
    "        False R[0] = Y0  value=  1  C[0]=  X0  x_1=  4  R[1]= Y1 Y=  1  C[1] = X1  X=  3 (4,1) (3,1) --Both Same Row\n",
    "        True R[0] = Y0  value=  2  C[0]=  X0  x_1=  4  R[1]= Y1 Y=  0  C[1] = X1  X=  0 (4,2) (0,0)-- Different rows\n",
    "        False R[0] = Y0  value=  2  C[0]=  X0  x_1=  4  R[1]= Y1 Y=  2  C[1] = X1  X=  1 (4,2) (1,2)--Both Same Row\n",
    "        True R[0] = Y0  value=  3  C[0]=  X0  x_1=  4  R[1]= Y1 Y=  0  C[1] = X1  X=  0 (4,3) (0,0) -- Different rows\n",
    "        True R[0] = Y0  value=  3  C[0]=  X0  x_1=  4  R[1]= Y1 Y=  2  C[1] = X1  X=  1 (4,3) (1,2) -- Different rows\n",
    "        True R[0] = Y0  value=  3  C[0]=  X0  x_1=  4  R[1]= Y1 Y=  4  C[1] = X1  X=  2 (4,3) (2,4)-- Different rows\n",
    "        True R[0] = Y0  value=  3  C[0]=  X0  x_1=  4  R[1]= Y1 Y=  1  C[1] = X1  X=  3 -- Different rows\n",
    "        False R[0] = Y0  value=  0  C[0]=  X0  x_1=  5  R[1]= Y1 Y=  0  C[1] = X1  X=  0 (5,0)(0,0)--Both Same Row\n",
    "        True R[0] = Y0  value=  1  C[0]=  X0  x_1=  5  R[1]= Y1 Y=  0  C[1] = X1  X=  0 -- Different rows\n",
    "        True R[0] = Y0  value=  1  C[0]=  X0  x_1=  5  R[1]= Y1 Y=  2  C[1] = X1  X=  1 -- Different rows\n",
    "        True R[0] = Y0  value=  1  C[0]=  X0  x_1=  5  R[1]= Y1 Y=  4  C[1] = X1  X=  2 -- Different rows\n",
    "        True R[0] = Y0  value=  2  C[0]=  X0  x_1=  5  R[1]= Y1 Y=  0  C[1] = X1  X=  0 -- Different rows\n",
    "        False R[0] = Y0  value=  2  C[0]=  X0  x_1=  5  R[1]= Y1 Y=  2  C[1] = X1  X=  1 (5,2)(1,2)--Both Same Row\n",
    "        \n",
    "        CHECK IF THE 2 COORDINATES ARE IN SAME DIAGONAL IF YES THEN RETURN FALSE\n",
    "        const_2 = s_row.subs({R[0]:value, C[0]:x_1, R[1]:y_coordinate,  C[1]:x_coordinate })\n",
    "        print(s_row.subs({R[0]:value, C[0]:x_1, R[1]:y_coordinate,  C[1]:x_coordinate }),\"R[0] =\",R[0],\n",
    "        \" value= \",value,\" C[0]= \", C[0],\" x_1= \",x_1,\" R[1]=\", R[1],\"Y= \",y_coordinate,\" C[1] =\",  \n",
    "        C[1],\" X= \",x_coordinate )\n",
    "        \n",
    "        True R[0] = Y0  value=  0  C[0]=  X0  x_1=  1  R[1]= Y1 Y=  0  C[1] = X1  X=  0 (1,0)(0,0) -Not a Diag\n",
    "        False R[0] = Y0  value=  1  C[0]=  X0  x_1=  1  R[1]= Y1 Y=  0  C[1] = X1  X=  0 (1,1) (0,0) --Diagonal\n",
    "        True R[0] = Y0  value=  2  C[0]=  X0  x_1=  1  R[1]= Y1 Y=  0  C[1] = X1  X=  0 (1,2) (0,0)  -Not a Diag\n",
    "        True R[0] = Y0  value=  0  C[0]=  X0  x_1=  2  R[1]= Y1 Y=  0  C[1] = X1  X=  0 (2,0) (0,0)  -Not a Diag\n",
    "        True R[0] = Y0  value=  1  C[0]=  X0  x_1=  2  R[1]= Y1 Y=  0  C[1] = X1  X=  0 (2,1) (0,)  -Not a Diag\n",
    "        False R[0] = Y0  value=  1  C[0]=  X0  x_1=  2  R[1]= Y1 Y=  2  C[1] = X1  X=  1 (2,1) (1,2) --Diagonal\n",
    "        False R[0] = Y0  value=  2  C[0]=  X0  x_1=  2  R[1]= Y1 Y=  0  C[1] = X1  X=  0 (2,2) (0,0)--Diagonal\n",
    "        True R[0] = Y0  value=  3  C[0]=  X0  x_1=  2  R[1]= Y1 Y=  0  C[1] = X1  X=  0 (2,3) (0,0) -Not a Diag\n",
    "        False R[0] = Y0  value=  3  C[0]=  X0  x_1=  2  R[1]= Y1 Y=  2  C[1] = X1  X=  1 (2,3) (1,2) --Diagonal\n",
    "        True R[0] = Y0  value=  1  C[0]=  X0  x_1=  3  R[1]= Y1 Y=  2  C[1] = X1  X=  1 (3,1)(1,2)-Not a Diag\n",
    "\n",
    "        \n",
    "        \"\"\"\n",
    "        \n",
    "\n",
    "        locations = [(i, j, assignment[j]) for i, j in enumerate(self.variables)\n",
    "                     if assignment.get(j, None) is not None and j !=var ]\n",
    "\n",
    "\n",
    "        s_row, diag = tuple(self._constraints[var])\n",
    "        x_1 = self.variables.index(var)\n",
    "        \n",
    "\n",
    "        \n",
    "        for loc in locations:\n",
    "            x_coordinate,Column_Name,y_coordinate = loc\n",
    "\n",
    "            const_1 = diag.subs({R[0]:value, C[0]:x_1, R[1]:y_coordinate,  C[1]:x_coordinate })\n",
    "            const_2 = s_row.subs({R[0]:value, C[0]:x_1, R[1]:y_coordinate,  C[1]:x_coordinate })\n",
    "            if  const_1 == False:\n",
    "                return False \n",
    "            if const_2==False or (value-y_coordinate) == -(x_1-x_coordinate):\n",
    "                return False\n",
    "        return True  \n",
    "        \n",
    "        \n",
    "    def inference(self, var, value): # THIS METHOD IS NOT USED IN THE PROGRAM\n",
    "        print(\"In method interface\")\n",
    "        \"\"\"Perform logical inference based on proposed variable assignment\n",
    "        \n",
    "        Returns an empty dictionary by default; function can be overridden to\n",
    "        check arc-, path-, or k-consistency; returning None signals \"failure\".\n",
    "        \n",
    "        Parameters\n",
    "        ----------\n",
    "        var : sympy.Symbol\n",
    "            One of the symbolic variables in the CSP\n",
    "        \n",
    "        value : Integer\n",
    "            A valid value (i.e., in the domain of) the variable `var` for assignment\n",
    "            \n",
    "        Returns\n",
    "        -------\n",
    "        dict(sympy.Symbol: Integer) or None\n",
    "            A partial set of values mapped to variables in the CSP based on inferred\n",
    "            constraints from previous mappings, or None to indicate failure\n",
    "        \"\"\"\n",
    "        # TODO (Optional): Implement this function based on AIMA discussion\n",
    "        return {}\n",
    "    \n",
    "    def show(self, assignment):\n",
    "        print(\"\\n In method show \\n \")\n",
    "        \"\"\"Display a chessboard with queens drawn in the locations specified by an\n",
    "        assignment\n",
    "        \n",
    "        Parameters\n",
    "        ----------\n",
    "        assignment : dict(sympy.Symbol: Integer)\n",
    "            A dictionary mapping CSP variables to row assignment of each queen\n",
    "            \n",
    "        \"\"\"\n",
    "        print(\"\\n  self.size \", self.size ,\"\\n\")\n",
    "        locations = [(i, assignment[j]) for i, j in enumerate(self.variables)\n",
    "                     if assignment.get(j, None) is not None]\n",
    "        print(\"\\n  locations \", locations ,\"\\n\")\n",
    "        displayBoard(locations, self.size)"
   ]
  },
  {
   "cell_type": "markdown",
   "metadata": {
    "collapsed": true,
    "deletable": true,
    "editable": true
   },
   "source": [
    "## III. Backtracking Search\n",
    "Implement the [backtracking search](https://github.com/aimacode/aima-pseudocode/blob/master/md/Backtracking-Search.md) algorithm (required) and helper functions (optional) from the AIMA text.  "
   ]
  },
  {
   "cell_type": "code",
   "execution_count": 196,
   "metadata": {
    "collapsed": false,
    "deletable": true,
    "editable": true
   },
   "outputs": [],
   "source": [
    "def select(csp, assignment):\n",
    "    \"\"\"Choose an unassigned variable in a constraint satisfaction problem \"\"\"\n",
    "    # TODO (Optional): Implement a more sophisticated selection routine from AIMA\n",
    "    for var in csp.variables:\n",
    "        if var not in assignment:\n",
    "#            print(\"Unassigned Variable\", var)\n",
    "            return var\n",
    "    return None\n",
    "\n",
    "def order_values(var, assignment, csp):\n",
    "    \"\"\"Select the order of the values in the domain of a variable for checking during search;\n",
    "    the default is lexicographically.\n",
    "    \"\"\"\n",
    "    # TODO (Optional): Implement a more sophisticated search ordering routine from AIMA\n",
    "    return csp.domains[var]\n",
    "\n",
    "def backtracking_search(csp):\n",
    "    \"\"\"Helper function used to initiate backtracking search \"\"\"\n",
    "    return backtrack({}, csp)\n",
    "\n",
    "def backtrack(assignment, csp):\n",
    "    \"\"\"Perform backtracking search for a valid assignment to a CSP\n",
    "    \n",
    "    Parameters\n",
    "    ----------\n",
    "    assignment : dict(sympy.Symbol: Integer)\n",
    "        An partial set of values mapped to variables in the CSP\n",
    "        \n",
    "    csp : CSP\n",
    "        A problem encoded as a CSP. Interface should include csp.variables, csp.domains,\n",
    "        csp.inference(), csp.is_consistent(), and csp.is_complete().\n",
    "    \n",
    "    Returns\n",
    "    -------\n",
    "    dict(sympy.Symbol: Integer) or None\n",
    "        A partial set of values mapped to variables in the CSP, or None to indicate failure\n",
    "    \"\"\"\n",
    "    #raise NotImplementedError(\"TODO: complete the backtrack function\")\n",
    "#    print(csp.is_complete(assignment),assignment)\n",
    "    if csp.is_complete(assignment):\n",
    "        return assignment \n",
    "    \"\"\"\n",
    "    Get Unassigned Variable means the var !=assignment\n",
    "    \n",
    "    eXample :\n",
    "    var = Queen_in_column_2 , value =0 ,\n",
    "    assignment.items() = dict_items([(Queen_in_column_0, 0), (Queen_in_column_1, 2)])\n",
    "    assignment.keys() = dict_keys([Queen_in_column_0, Queen_in_column_1])\n",
    "    \"\"\"\n",
    "    var = select(csp,assignment)\n",
    "    \n",
    "    for value in  csp.domains[var]:\n",
    "        if csp.is_consistent( var, value, assignment ):\n",
    "            assignment[var] = value\n",
    "            result = backtrack(assignment,csp)\n",
    "            if result:\n",
    "#                print(\"Result \",result,\"\\n\")\n",
    "                return result\n",
    "        elif assignment.get(var,None) !=None:\n",
    "#            print(var,\"assignment.get(var,None) \", assignment.get(var),assignment,\"\\n\")\n",
    "            assignment.pop(var)\n",
    "                \n"
   ]
  },
  {
   "cell_type": "markdown",
   "metadata": {
    "deletable": true,
    "editable": true
   },
   "source": [
    "### Solve the CSP\n",
    "With backtracking implemented, now you can use it to solve instances of the problem. We've started with the classical 8-queen version, but you can try other sizes as well.  Boards larger than 12x12 may take some time to solve because sympy is slow in the way its being used here, and because the selection and value ordering methods haven't been implemented.  See if you can implement any of the techniques in the AIMA text to speed up the solver!"
   ]
  },
  {
   "cell_type": "code",
   "execution_count": 197,
   "metadata": {
    "collapsed": false
   },
   "outputs": [
    {
     "name": "stdout",
     "output_type": "stream",
     "text": [
      "CSP problems have variables, each variable has a domain, and the problem has a list of constraints.\n",
      "Showing the variables for the N-Queens CSP:\n"
     ]
    },
    {
     "data": {
      "image/png": "[encoded data removed]",
      "text/latex": [
       "$$\\left ( Queen_{in column 0}, \\quad Queen_{in column 1}, \\quad Queen_{in column 2}, \\quad Queen_{in column 3}, \\quad Queen_{in column 4}, \\quad Queen_{in column 5}, \\quad Queen_{in column 6}, \\quad Queen_{in column 7}\\right )$$"
      ],
      "text/plain": [
       "(Queen_in_column_0, Queen_in_column_1, Queen_in_column_2, Queen_in_column_3, Q\n",
       "ueen_in_column_4, Queen_in_column_5, Queen_in_column_6, Queen_in_column_7)"
      ]
     },
     "metadata": {},
     "output_type": "display_data"
    },
    {
     "name": "stdout",
     "output_type": "stream",
     "text": [
      "Showing domain for Queen_in_column_0:\n"
     ]
    },
    {
     "data": {
      "image/png": "[encoded data removed]",
      "text/latex": [
       "$$\\left\\{0, 1, 2, 3, 4, 5, 6, 7\\right\\}$$"
      ],
      "text/plain": [
       "set([0, 1, 2, 3, 4, 5, 6, 7])"
      ]
     },
     "metadata": {},
     "output_type": "display_data"
    },
    {
     "name": "stdout",
     "output_type": "stream",
     "text": [
      "And showing the constraints for Queen_in_column_0:\n"
     ]
    },
    {
     "data": {
      "image/png": "[encoded data removed]",
      "text/latex": [
       "$$\\left\\{\\operatorname{DiffDiag}{\\left (Y_{1},Y_{0},X_{0},X_{1} \\right )}, \\operatorname{DiffRow}{\\left (Y_{1},Y_{0} \\right )}\\right\\}$$"
      ],
      "text/plain": [
       "set([DiffDiag(Y₁, Y₀, X₀, X₁), DiffRow(Y₁, Y₀)])"
      ]
     },
     "metadata": {},
     "output_type": "display_data"
    },
    {
     "name": "stdout",
     "output_type": "stream",
     "text": [
      "Solving N-Queens CSP...\n",
      "\n",
      " In method show \n",
      " \n",
      "\n",
      "  self.size  8 \n",
      "\n",
      "\n",
      "  locations  [(0, 0), (1, 6), (2, 3), (3, 5), (4, 7), (5, 1), (6, 4), (7, 2)] \n",
      "\n"
     ]
    },
    {
     "data": {
      "image/png": "[encoded data removed]",
      "text/plain": [
       "<matplotlib.figure.Figure at 0x227b2231128>"
      ]
     },
     "metadata": {},
     "output_type": "display_data"
    },
    {
     "name": "stdout",
     "output_type": "stream",
     "text": [
      "Solution found:\n",
      "{Queen_in_column_0: 0, Queen_in_column_4: 7, Queen_in_column_1: 6, Queen_in_column_2: 3, Queen_in_column_3: 5, Queen_in_column_5: 1, Queen_in_column_6: 4, Queen_in_column_7: 2}\n"
     ]
    }
   ],
   "source": [
    "num_queens = 8\n",
    "csp = NQueensCSP(num_queens)\n",
    "var = csp.variables[0]\n",
    "print(\"CSP problems have variables, each variable has a domain, and the problem has a list of constraints.\")\n",
    "print(\"Showing the variables for the N-Queens CSP:\")\n",
    "display(csp.variables)\n",
    "print(\"Showing domain for {}:\".format(var))\n",
    "display(csp.domains[var])\n",
    "print(\"And showing the constraints for {}:\".format(var))\n",
    "display(csp._constraints[var])\n",
    "\n",
    "print(\"Solving N-Queens CSP...\")\n",
    "assn = backtracking_search(csp)\n",
    "if assn is not None:\n",
    "    csp.show(assn)\n",
    "    print(\"Solution found:\\n{!s}\".format(assn))\n",
    "else:\n",
    "    print(\"No solution found.\")"
   ]
  },
  {
   "cell_type": "code",
   "execution_count": null,
   "metadata": {
    "collapsed": true
   },
   "outputs": [],
   "source": []
  }
 ],
 "metadata": {
  "anaconda-cloud": {},
  "kernelspec": {
   "display_name": "Python 3",
   "language": "python",
   "name": "python3"
  },
  "language_info": {
   "codemirror_mode": {
    "name": "ipython",
    "version": 3
   },
   "file_extension": ".py",
   "mimetype": "text/x-python",
   "name": "python",
   "nbconvert_exporter": "python",
   "pygments_lexer": "ipython3",
   "version": "3.6.0"
  }
 },
 "nbformat": 4,
 "nbformat_minor": 1
}
